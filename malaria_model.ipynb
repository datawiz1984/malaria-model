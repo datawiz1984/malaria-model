{
  "nbformat": 4,
  "nbformat_minor": 0,
  "metadata": {
    "colab": {
      "name": "malaria model.ipynb",
      "version": "0.3.2",
      "provenance": [],
      "collapsed_sections": [],
      "include_colab_link": true
    },
    "kernelspec": {
      "name": "python3",
      "display_name": "Python 3"
    },
    "accelerator": "GPU"
  },
  "cells": [
    {
      "cell_type": "markdown",
      "metadata": {
        "id": "view-in-github",
        "colab_type": "text"
      },
      "source": [
        "<a href=\"https://colab.research.google.com/github/datawiz1984/malaria-model/blob/master/malaria_model.ipynb\" target=\"_parent\"><img src=\"https://colab.research.google.com/assets/colab-badge.svg\" alt=\"Open In Colab\"/></a>"
      ]
    },
    {
      "cell_type": "markdown",
      "metadata": {
        "id": "ugHCazy3l55e",
        "colab_type": "text"
      },
      "source": [
        "**Colab Jupyter Note book for the Implementation of a Malaria Diagnostic Tool.**\n",
        "By Musa Mikail\n",
        "2019.\n",
        "\n",
        "The Aim of the Book is to Train a Binary Classifer that will be used in diagonising malaria using images of slides captured froma  thin-smear test.\n",
        "\n",
        "The Implementation will be progressed thus:\n",
        "1. Download the Malaria Dataset from https://ceb.nlm.nih.gov/proj/malaria/cell_images.zip.\n",
        "2. Explore and analyse the data to identify the key features and ascertain additional pre-processing requirments before progressing with training.\n",
        "3. Pre-process the data - Including resizing and aurgumentation\n",
        "4. Implementation and training of a Convolution Neural Network Binary classifier\n",
        "5. Implement a vanilla ANN for the purpose of benchmarking and pefromance assessment\n",
        "6. Implement a Canny Edge detection method for counting and segmentation of cells from images passed for inference (not related to model training)\n",
        "7. Save and export model for deployment."
      ]
    },
    {
      "cell_type": "markdown",
      "metadata": {
        "id": "2apAl4ldoJRI",
        "colab_type": "text"
      },
      "source": [
        "**1. Download the Malaria Dataset from https://ceb.nlm.nih.gov/proj/malaria/cell_images.zip.**"
      ]
    },
    {
      "cell_type": "code",
      "metadata": {
        "id": "OZx8BOn4Hbpr",
        "colab_type": "code",
        "outputId": "1375f600-df3b-4421-fb8c-86aab933e7e3",
        "colab": {
          "base_uri": "https://localhost:8080/",
          "height": 224
        }
      },
      "source": [
        "#Download data from the website of US national library of medicine\n",
        "import os\n",
        "\n",
        "if not os.path.isdir('/datasets/malaria/'):\n",
        "  os.makedirs('/datasets/malaria/')\n",
        "\n",
        "!wget --no-check-certificate \"https://ceb.nlm.nih.gov/proj/malaria/cell_images.zip\" \\\n",
        "-O /datasets/malaria/cell_images.zip"
      ],
      "execution_count": 1,
      "outputs": [
        {
          "output_type": "stream",
          "text": [
            "--2019-07-24 13:49:16--  https://ceb.nlm.nih.gov/proj/malaria/cell_images.zip\n",
            "Resolving ceb.nlm.nih.gov (ceb.nlm.nih.gov)... 130.14.52.15, 2607:f220:41e:7052::15\n",
            "Connecting to ceb.nlm.nih.gov (ceb.nlm.nih.gov)|130.14.52.15|:443... connected.\n",
            "HTTP request sent, awaiting response... 200 OK\n",
            "Length: 353452851 (337M) [application/zip]\n",
            "Saving to: ‘/datasets/malaria/cell_images.zip’\n",
            "\n",
            "/datasets/malaria/c 100%[===================>] 337.08M  43.5MB/s    in 6.2s    \n",
            "\n",
            "2019-07-24 13:49:22 (54.7 MB/s) - ‘/datasets/malaria/cell_images.zip’ saved [353452851/353452851]\n",
            "\n"
          ],
          "name": "stdout"
        }
      ]
    },
    {
      "cell_type": "code",
      "metadata": {
        "id": "FBxWJQp2qQrj",
        "colab_type": "code",
        "outputId": "db019857-bfc7-4501-a6eb-470e97460dd5",
        "colab": {
          "base_uri": "https://localhost:8080/",
          "height": 51
        }
      },
      "source": [
        "import zipfile\n",
        "\n",
        "zip_path = '/datasets/malaria/cell_images.zip'\n",
        "print('Unzipping file....')\n",
        "malaria_zip = zipfile.ZipFile(zip_path,'r')\n",
        "malaria_zip.extractall('/datasets/malaria/')\n",
        "malaria_zip.close()\n",
        "print('Done!!!')"
      ],
      "execution_count": 2,
      "outputs": [
        {
          "output_type": "stream",
          "text": [
            "Unzipping file....\n",
            "Done!!!\n"
          ],
          "name": "stdout"
        }
      ]
    },
    {
      "cell_type": "markdown",
      "metadata": {
        "id": "uKjWhOGCoGcz",
        "colab_type": "text"
      },
      "source": [
        "**Explore and analyse the data **"
      ]
    },
    {
      "cell_type": "code",
      "metadata": {
        "id": "Fv5VBy2qTXCi",
        "colab_type": "code",
        "outputId": "6d977151-0a42-4dc6-99ad-7e07e3023ab2",
        "colab": {
          "base_uri": "https://localhost:8080/",
          "height": 51
        }
      },
      "source": [
        "#Diectory with our training parasitized cells pictures\n",
        "train_parasitized_dir = '/datasets/malaria/cell_images/Parasitized'\n",
        "\n",
        "#Diectory with our training Uninfected cells pictures\n",
        "train_uninfected_dir = '/datasets/malaria/cell_images/Uninfected'\n",
        "\n",
        "train_parasitized_names = os.listdir(train_parasitized_dir)\n",
        "train_uninfected_names = os.listdir(train_uninfected_dir)\n",
        "print('total training parasitized images:', len(os.listdir(train_parasitized_dir)))\n",
        "print('total training Uninfected images:', len(os.listdir(train_uninfected_dir)))"
      ],
      "execution_count": 3,
      "outputs": [
        {
          "output_type": "stream",
          "text": [
            "total training parasitized images: 13780\n",
            "total training Uninfected images: 13780\n"
          ],
          "name": "stdout"
        }
      ]
    },
    {
      "cell_type": "code",
      "metadata": {
        "id": "3Aira8njWtKO",
        "colab_type": "code",
        "outputId": "757c0962-b107-47a6-a895-48ae0dac5bea",
        "colab": {
          "base_uri": "https://localhost:8080/",
          "height": 749
        }
      },
      "source": [
        "%matplotlib inline\n",
        "\n",
        "import matplotlib.pyplot as plt1\n",
        "import matplotlib.pyplot as plt2\n",
        "import matplotlib.image as mpimg\n",
        "from PIL import Image\n",
        "from statistics import mode,pstdev\n",
        "\n",
        "#Get the dimensions of the images\n",
        "img_heights=[]\n",
        "img_widths=[]\n",
        "\n",
        "#Index for image iteration\n",
        "pic_print_index = 4\n",
        "\n",
        "\n",
        "#parameters for 2X2 graphs\n",
        "\n",
        "nrows = 4\n",
        "ncols = 4\n",
        "\n",
        "\n",
        "# Set up matplotlib fig, and size it to fit 2X2 pics\n",
        "fig1 = plt1.gcf()\n",
        "fig1.set_size_inches(ncols * 2, nrows * 2)\n",
        "fig1.suptitle('Visualization of Data Samples')\n",
        "\n",
        "\n",
        "next_parasitized_pix = [os.path.join(train_parasitized_dir, fname) \n",
        "                for fname in train_parasitized_names]\n",
        "\n",
        "next_Uninfected_pix = [os.path.join(train_uninfected_dir, fname) \n",
        "                for fname in train_uninfected_names]\n",
        "\n",
        "for f in next_parasitized_pix:\n",
        "  try:\n",
        "    img = Image.open(str(f))\n",
        "    img_heights.append(img.height)\n",
        "    img_widths.append(img.width)\n",
        "  except:\n",
        "    print(\"File skipped: {}\".format(str(f)))\n",
        "    \n",
        "for f in next_Uninfected_pix:\n",
        "  try:\n",
        "    img = Image.open(str(f))\n",
        "    img_heights.append(img.height)\n",
        "    img_widths.append(img.width)\n",
        "  except:\n",
        "    print(\"File skipped {}\".format(str(f)))\n",
        "\n",
        "#print(img_heights[0])\n",
        "\n",
        "  \n",
        "#print sample images of both classes in the training data\n",
        "\n",
        "for i, img_path in enumerate(next_parasitized_pix[0:pic_print_index]+next_Uninfected_pix[0:pic_print_index]):\n",
        "  # Set up subplot; subplot indices start at 1\n",
        "  sp = plt1.subplot(nrows, ncols, i + 1)\n",
        "  sp.axis('Off') # Don't show axes (or gridlines)\n",
        "  img = mpimg.imread(img_path)\n",
        "  plt1.imshow(img)\n",
        "\n",
        "  \n",
        "fig1, axs = plt2.subplots(1, 2, sharey=True, tight_layout=True)\n",
        "\n",
        "# We can set the number of bins with the `bins` kwarg\n",
        "axs[0].hist(img_heights)\n",
        "axs[1].hist(img_widths)\n",
        "  \n",
        "#Plot distribution of Height and width\n",
        "print(\"Modal Height of Image: {}\".format(mode(img_heights)))\n",
        "print(\"Modal Width of Image: {}\".format(mode(img_widths)))\n",
        "print(\"Stand. Dev Height of Image: {}\".format(pstdev(img_heights)))\n",
        "print(\"Stand. Dev Width of Image: {}\".format(pstdev(img_widths)))"
      ],
      "execution_count": 4,
      "outputs": [
        {
          "output_type": "stream",
          "text": [
            "File skipped: /datasets/malaria/cell_images/Parasitized/Thumbs.db\n",
            "File skipped /datasets/malaria/cell_images/Uninfected/Thumbs.db\n",
            "Modal Height of Image: 130\n",
            "Modal Width of Image: 130\n",
            "Stand. Dev Height of Image: 20.61927561732627\n",
            "Stand. Dev Width of Image: 20.015585545533767\n"
          ],
          "name": "stdout"
        },
        {
          "output_type": "display_data",
          "data": {
            "image/png": "[encoded data removed]",
            "text/plain": [
              "<Figure size 576x576 with 8 Axes>"
            ]
          },
          "metadata": {
            "tags": []
          }
        },
        {
          "output_type": "stream",
          "text": [
            "/usr/local/lib/python3.6/dist-packages/matplotlib/figure.py:2369: UserWarning: This figure includes Axes that are not compatible with tight_layout, so results might be incorrect.\n",
            "  warnings.warn(\"This figure includes Axes that are not compatible \"\n"
          ],
          "name": "stderr"
        },
        {
          "output_type": "display_data",
          "data": {
            "image/png": "[encoded data removed]",
            "text/plain": [
              "<Figure size 432x288 with 2 Axes>"
            ]
          },
          "metadata": {
            "tags": []
          }
        }
      ]
    },
    {
      "cell_type": "markdown",
      "metadata": {
        "id": "71q_j2rWorI6",
        "colab_type": "text"
      },
      "source": [
        "***Observations from Data Exploration:***\n",
        "1. There are a total of 27,560 Images in the training dataset\n",
        "2. The Training data is balanced (equal number of classes), and Accuracy will be a good metrics for measuring performance during training.\n",
        "3. There is a variations in the shapes of the images, with 130X130 been the most common occurence with variance of ccc observed."
      ]
    },
    {
      "cell_type": "markdown",
      "metadata": {
        "id": "RsQ-EkVEdf3_",
        "colab_type": "text"
      },
      "source": [
        "**3. Pre-process the data - Including resizing, and Aurgumentation** **bold text**"
      ]
    },
    {
      "cell_type": "code",
      "metadata": {
        "id": "D2e5H5FTXMY5",
        "colab_type": "code",
        "outputId": "2fd1b338-2537-4d9b-baf3-21969212713a",
        "colab": {
          "base_uri": "https://localhost:8080/",
          "height": 51
        }
      },
      "source": [
        "#Data Processing using the image generator\n",
        "import tensorflow as tf\n",
        "from tensorflow.keras.preprocessing.image import ImageDataGenerator\n",
        "from sklearn.model_selection import train_test_split\n",
        "\n",
        "#All images will be rescaled by 1./255 for uniformity\n",
        "\n",
        "image_gen= ImageDataGenerator(rescale = 1./255,\n",
        "                             validation_split = 0.25,\n",
        "                             rotation_range=20,\n",
        "                             width_shift_range=0.2,\n",
        "                             height_shift_range=0.2,\n",
        "                             horizontal_flip=True)\n",
        "\n",
        "#Flow the whole data in batches of 128 using data_gen generator\n",
        "\n",
        "train_data = image_gen.flow_from_directory(\n",
        "    '/datasets/malaria/cell_images/',\n",
        "     target_size = (130,130),\n",
        "     batch_size = 128,\n",
        "     class_mode = 'binary')\n",
        "\n",
        "test_data = image_gen.flow_from_directory(\n",
        "    '/datasets/malaria/cell_images/',\n",
        "     target_size = (130,130),\n",
        "     batch_size = 128,\n",
        "     class_mode = 'binary')"
      ],
      "execution_count": 5,
      "outputs": [
        {
          "output_type": "stream",
          "text": [
            "Found 27558 images belonging to 2 classes.\n",
            "Found 27558 images belonging to 2 classes.\n"
          ],
          "name": "stdout"
        }
      ]
    },
    {
      "cell_type": "code",
      "metadata": {
        "id": "5FuI9rsofNbN",
        "colab_type": "code",
        "outputId": "fbc7668e-920a-4035-9ee6-10d64db8f72e",
        "colab": {
          "base_uri": "https://localhost:8080/",
          "height": 105
        }
      },
      "source": [
        "#Build a simple vanilla Multi-layer perceptron\n",
        "#This model will be used for benchmarking\n",
        "transformVanilla = tf.keras.models.Sequential([\n",
        "    tf.keras.layers.Flatten(input_shape=(130, 130, 3)),\n",
        "    tf.keras.layers.Dense(1000, activation='relu'),\n",
        "    tf.keras.layers.Dense(1, activation='sigmoid')\n",
        "])"
      ],
      "execution_count": 6,
      "outputs": [
        {
          "output_type": "stream",
          "text": [
            "WARNING: Logging before flag parsing goes to stderr.\n",
            "W0724 13:49:39.042227 139946147551104 deprecation.py:506] From /usr/local/lib/python3.6/dist-packages/tensorflow/python/ops/init_ops.py:1251: calling VarianceScaling.__init__ (from tensorflow.python.ops.init_ops) with dtype is deprecated and will be removed in a future version.\n",
            "Instructions for updating:\n",
            "Call initializer instance with the dtype argument instead of passing it to the constructor\n"
          ],
          "name": "stderr"
        }
      ]
    },
    {
      "cell_type": "code",
      "metadata": {
        "id": "spJS7dhR2JF6",
        "colab_type": "code",
        "colab": {}
      },
      "source": [
        "#Assemble a simple three stage CNN.\n",
        "transformLightCNN = tf.keras.models.Sequential([\n",
        "    #Stage 1\n",
        "    tf.keras.layers.Conv2D(16, (3,3), strides=(1,1), activation = 'relu', input_shape = (130,130,3)),\n",
        "    tf.keras.layers.MaxPooling2D(2,2),\n",
        "    #Stage 2\n",
        "    tf.keras.layers.Conv2D(32, (3,3), strides=(1,1), activation = 'relu'),\n",
        "    tf.keras.layers.MaxPooling2D(2,2),\n",
        "    #Stage 3\n",
        "    tf.keras.layers.Conv2D(64, (3,3), strides=(1,1), activation = 'relu'),\n",
        "    tf.keras.layers.MaxPooling2D(2,2),\n",
        "    #Fully Connected Section\n",
        "    tf.keras.layers.Flatten(),\n",
        "    tf.keras.layers.Dense(128, activation = 'relu'),\n",
        "    tf.keras.layers.Dense(1, activation = 'sigmoid')\n",
        "])"
      ],
      "execution_count": 0,
      "outputs": []
    },
    {
      "cell_type": "code",
      "metadata": {
        "id": "HQluKWku7K3a",
        "colab_type": "code",
        "colab": {}
      },
      "source": [
        "#Implement Training Callbacks\n",
        "\n",
        "vanilla_train_loss=[]\n",
        "vanilla_train_acc = []\n",
        "vanilla_validation_loss = []\n",
        "vanilla_validation_acc = []\n",
        "light_train_loss=[]\n",
        "light_train_acc = []\n",
        "light_validation_loss = []\n",
        "light_validation_acc = []\n",
        "\n",
        "\n",
        "class vanillaCallback(tf.keras.callbacks.Callback):\n",
        "  def on_train_batch_end(self, epoch, logs={}):\n",
        "    vanilla_train_loss.append(logs.get('loss'))\n",
        "    vanilla_train_acc.append(logs.get('acc'))\n",
        "    vanilla_validation_loss.append(logs.get('val_loss'))\n",
        "    vanilla_validation_acc.append(logs.get('val_Acc'))\n",
        "\n",
        "\n",
        "class lightCallback(tf.keras.callbacks.Callback):\n",
        "  def on_train_batch_end(self, epoch, logs={}):\n",
        "    light_train_loss.append(logs.get('loss'))\n",
        "    light_train_acc.append(logs.get('acc'))\n",
        "    light_validation_loss.append(logs.get('val_loss'))\n",
        "    light_validation_acc.append(logs.get('val_Acc'))\n",
        "\n",
        "    \n",
        "vanilla_callbacks = vanillaCallback()\n",
        "Light_callbacks = lightCallback()\n"
      ],
      "execution_count": 0,
      "outputs": []
    },
    {
      "cell_type": "code",
      "metadata": {
        "id": "jxTib46vcieV",
        "colab_type": "code",
        "outputId": "7272c22d-a7a2-4afd-a660-130462779cf1",
        "colab": {
          "base_uri": "https://localhost:8080/",
          "height": 88
        }
      },
      "source": [
        "#Now we compile the model using an Adam Optimiuzer\n",
        "#and a binary_crossentropy loss function\n",
        "\n",
        "transformVanilla.compile(loss = 'binary_crossentropy',\n",
        "                    optimizer = 'adam',\n",
        "                    metrics = ['acc'])\n",
        "\n",
        "transformLightCNN.compile(loss = 'binary_crossentropy',\n",
        "                    optimizer = 'adam',\n",
        "                    metrics = ['acc'])"
      ],
      "execution_count": 9,
      "outputs": [
        {
          "output_type": "stream",
          "text": [
            "W0724 13:49:39.519643 139946147551104 deprecation.py:323] From /usr/local/lib/python3.6/dist-packages/tensorflow/python/ops/nn_impl.py:180: add_dispatch_support.<locals>.wrapper (from tensorflow.python.ops.array_ops) is deprecated and will be removed in a future version.\n",
            "Instructions for updating:\n",
            "Use tf.where in 2.0, which has the same broadcast rule as np.where\n"
          ],
          "name": "stderr"
        }
      ]
    },
    {
      "cell_type": "code",
      "metadata": {
        "id": "HVnBiZ5ysGEX",
        "colab_type": "code",
        "outputId": "4660b0cd-8e44-4e0e-a6f6-06e90f9e8cf9",
        "colab": {
          "base_uri": "https://localhost:8080/",
          "height": 1000
        }
      },
      "source": [
        "#Training of the Vanilla MLP Classifier\n",
        "%%timeit\n",
        "transformerVanilla = transformVanilla.fit_generator(\n",
        "            train_data,\n",
        "            callbacks=[vanilla_callbacks],\n",
        "            validation_data=test_data,\n",
        "            validation_steps=8,\n",
        "            epochs=10,\n",
        "            verbose=1)"
      ],
      "execution_count": 10,
      "outputs": [
        {
          "output_type": "stream",
          "text": [
            "Epoch 1/10\n",
            "216/216 [==============================] - 166s 769ms/step - loss: 5.2223 - acc: 0.5546 - val_loss: 1.0006 - val_acc: 0.5576\n",
            "Epoch 2/10\n",
            "216/216 [==============================] - 165s 765ms/step - loss: 1.1583 - acc: 0.5566 - val_loss: 0.8099 - val_acc: 0.5918\n",
            "Epoch 3/10\n",
            "216/216 [==============================] - 151s 700ms/step - loss: 0.7567 - acc: 0.5943 - val_loss: 0.7542 - val_acc: 0.5830\n",
            "Epoch 4/10\n",
            "216/216 [==============================] - 154s 714ms/step - loss: 0.7192 - acc: 0.5993 - val_loss: 0.6522 - val_acc: 0.6240\n",
            "Epoch 5/10\n",
            "216/216 [==============================] - 157s 727ms/step - loss: 0.6881 - acc: 0.6124 - val_loss: 0.6529 - val_acc: 0.6348\n",
            "Epoch 6/10\n",
            "216/216 [==============================] - 149s 689ms/step - loss: 0.6898 - acc: 0.6017 - val_loss: 0.7211 - val_acc: 0.5400\n",
            "Epoch 7/10\n",
            "216/216 [==============================] - 149s 690ms/step - loss: 0.6563 - acc: 0.6204 - val_loss: 0.6513 - val_acc: 0.6211\n",
            "Epoch 8/10\n",
            "216/216 [==============================] - 149s 690ms/step - loss: 0.6521 - acc: 0.6271 - val_loss: 0.6671 - val_acc: 0.6094\n",
            "Epoch 9/10\n",
            "216/216 [==============================] - 149s 691ms/step - loss: 0.6452 - acc: 0.6361 - val_loss: 0.6491 - val_acc: 0.6260\n",
            "Epoch 10/10\n",
            "216/216 [==============================] - 158s 730ms/step - loss: 0.6417 - acc: 0.6403 - val_loss: 0.6416 - val_acc: 0.6191\n",
            "Epoch 1/10\n",
            "216/216 [==============================] - 170s 786ms/step - loss: 0.6420 - acc: 0.6385 - val_loss: 0.6401 - val_acc: 0.6465\n",
            "Epoch 2/10\n",
            "216/216 [==============================] - 160s 739ms/step - loss: 0.6400 - acc: 0.6396 - val_loss: 0.6436 - val_acc: 0.6406\n",
            "Epoch 3/10\n",
            "216/216 [==============================] - 149s 688ms/step - loss: 0.6375 - acc: 0.6432 - val_loss: 0.6340 - val_acc: 0.6494\n",
            "Epoch 4/10\n",
            "216/216 [==============================] - 158s 729ms/step - loss: 0.6362 - acc: 0.6442 - val_loss: 0.6436 - val_acc: 0.6416\n",
            "Epoch 5/10\n",
            "216/216 [==============================] - 147s 682ms/step - loss: 0.6327 - acc: 0.6487 - val_loss: 0.6440 - val_acc: 0.6230\n",
            "Epoch 6/10\n",
            "216/216 [==============================] - 147s 683ms/step - loss: 0.6356 - acc: 0.6459 - val_loss: 0.6379 - val_acc: 0.6465\n",
            "Epoch 7/10\n",
            "216/216 [==============================] - 150s 696ms/step - loss: 0.6328 - acc: 0.6477 - val_loss: 0.6889 - val_acc: 0.5918\n",
            "Epoch 8/10\n",
            "216/216 [==============================] - 161s 747ms/step - loss: 0.6353 - acc: 0.6453 - val_loss: 0.6520 - val_acc: 0.6338\n",
            "Epoch 9/10\n",
            "216/216 [==============================] - 161s 748ms/step - loss: 0.6338 - acc: 0.6483 - val_loss: 0.6495 - val_acc: 0.6201\n",
            "Epoch 10/10\n",
            "216/216 [==============================] - 149s 692ms/step - loss: 0.6306 - acc: 0.6530 - val_loss: 0.6706 - val_acc: 0.5986\n",
            "Epoch 1/10\n",
            "216/216 [==============================] - 161s 743ms/step - loss: 0.6354 - acc: 0.6447 - val_loss: 0.6456 - val_acc: 0.6270\n",
            "Epoch 2/10\n",
            "216/216 [==============================] - 146s 676ms/step - loss: 0.6340 - acc: 0.6470 - val_loss: 0.6748 - val_acc: 0.6025\n",
            "Epoch 3/10\n",
            "216/216 [==============================] - 146s 678ms/step - loss: 0.6346 - acc: 0.6469 - val_loss: 0.6502 - val_acc: 0.6279\n",
            "Epoch 4/10\n",
            "216/216 [==============================] - 151s 698ms/step - loss: 0.6314 - acc: 0.6503 - val_loss: 0.6415 - val_acc: 0.6318\n",
            "Epoch 5/10\n",
            "216/216 [==============================] - 163s 754ms/step - loss: 0.6273 - acc: 0.6540 - val_loss: 0.6339 - val_acc: 0.6318\n",
            "Epoch 6/10\n",
            "216/216 [==============================] - 160s 740ms/step - loss: 0.6299 - acc: 0.6526 - val_loss: 0.6676 - val_acc: 0.5791\n",
            "Epoch 7/10\n",
            "216/216 [==============================] - 152s 702ms/step - loss: 0.6318 - acc: 0.6510 - val_loss: 0.6349 - val_acc: 0.6416\n",
            "Epoch 8/10\n",
            "216/216 [==============================] - 150s 695ms/step - loss: 0.6313 - acc: 0.6501 - val_loss: 0.6290 - val_acc: 0.6533\n",
            "Epoch 9/10\n",
            "216/216 [==============================] - 158s 734ms/step - loss: 0.6267 - acc: 0.6572 - val_loss: 0.6836 - val_acc: 0.5889\n",
            "Epoch 10/10\n",
            "216/216 [==============================] - 148s 687ms/step - loss: 0.6247 - acc: 0.6593 - val_loss: 0.6372 - val_acc: 0.6445\n",
            "Epoch 1/10\n",
            "216/216 [==============================] - 163s 755ms/step - loss: 0.6259 - acc: 0.6590 - val_loss: 0.6408 - val_acc: 0.6348\n",
            "Epoch 2/10\n",
            "216/216 [==============================] - 155s 719ms/step - loss: 0.6235 - acc: 0.6610 - val_loss: 0.6448 - val_acc: 0.6504\n",
            "Epoch 3/10\n",
            "216/216 [==============================] - 158s 733ms/step - loss: 0.6228 - acc: 0.6585 - val_loss: 0.6336 - val_acc: 0.6426\n",
            "Epoch 4/10\n",
            "216/216 [==============================] - 151s 697ms/step - loss: 0.6265 - acc: 0.6534 - val_loss: 0.6652 - val_acc: 0.6201\n",
            "Epoch 5/10\n",
            "216/216 [==============================] - 153s 707ms/step - loss: 0.6255 - acc: 0.6569 - val_loss: 0.6283 - val_acc: 0.6494\n",
            "Epoch 6/10\n",
            "216/216 [==============================] - 160s 743ms/step - loss: 0.6232 - acc: 0.6585 - val_loss: 0.6336 - val_acc: 0.6553\n",
            "Epoch 7/10\n",
            "216/216 [==============================] - 149s 691ms/step - loss: 0.6247 - acc: 0.6585 - val_loss: 0.6319 - val_acc: 0.6621\n",
            "Epoch 8/10\n",
            "216/216 [==============================] - 149s 691ms/step - loss: 0.6227 - acc: 0.6595 - val_loss: 0.6300 - val_acc: 0.6572\n",
            "Epoch 9/10\n",
            "216/216 [==============================] - 152s 704ms/step - loss: 0.6242 - acc: 0.6629 - val_loss: 0.6300 - val_acc: 0.6621\n",
            "Epoch 10/10\n",
            "216/216 [==============================] - 156s 723ms/step - loss: 0.6213 - acc: 0.6625 - val_loss: 0.6437 - val_acc: 0.6494\n",
            "1 loop, best of 3: 25min 35s per loop\n"
          ],
          "name": "stdout"
        }
      ]
    },
    {
      "cell_type": "code",
      "metadata": {
        "id": "gAgVodXg58_x",
        "colab_type": "code",
        "outputId": "f2a5cf9d-20eb-417e-d7a7-84b7794448a4",
        "colab": {
          "base_uri": "https://localhost:8080/",
          "height": 1000
        }
      },
      "source": [
        "#Training of the Tuned Light architecture Classifier\n",
        "%%timeit\n",
        "transformerLightCNN = transformLightCNN.fit_generator(\n",
        "            train_data,\n",
        "            callbacks=[Light_callbacks],\n",
        "            validation_data=test_data,\n",
        "            validation_steps=8,\n",
        "            epochs=10,\n",
        "            verbose=1)"
      ],
      "execution_count": 11,
      "outputs": [
        {
          "output_type": "stream",
          "text": [
            "Epoch 1/10\n",
            "216/216 [==============================] - 169s 781ms/step - loss: 0.6371 - acc: 0.6227 - val_loss: 0.3850 - val_acc: 0.8584\n",
            "Epoch 2/10\n",
            "216/216 [==============================] - 160s 743ms/step - loss: 0.2800 - acc: 0.8910 - val_loss: 0.2189 - val_acc: 0.9209\n",
            "Epoch 3/10\n",
            "216/216 [==============================] - 159s 737ms/step - loss: 0.2388 - acc: 0.9124 - val_loss: 0.1943 - val_acc: 0.9336\n",
            "Epoch 4/10\n",
            "216/216 [==============================] - 156s 720ms/step - loss: 0.2269 - acc: 0.9203 - val_loss: 0.1874 - val_acc: 0.9307\n",
            "Epoch 5/10\n",
            "216/216 [==============================] - 157s 728ms/step - loss: 0.2141 - acc: 0.9268 - val_loss: 0.1670 - val_acc: 0.9453\n",
            "Epoch 6/10\n",
            "216/216 [==============================] - 151s 700ms/step - loss: 0.2098 - acc: 0.9268 - val_loss: 0.1760 - val_acc: 0.9443\n",
            "Epoch 7/10\n",
            "216/216 [==============================] - 151s 698ms/step - loss: 0.1993 - acc: 0.9308 - val_loss: 0.1823 - val_acc: 0.9404\n",
            "Epoch 8/10\n",
            "216/216 [==============================] - 158s 731ms/step - loss: 0.1921 - acc: 0.9343 - val_loss: 0.1506 - val_acc: 0.9570\n",
            "Epoch 9/10\n",
            "216/216 [==============================] - 168s 776ms/step - loss: 0.1877 - acc: 0.9346 - val_loss: 0.1713 - val_acc: 0.9463\n",
            "Epoch 10/10\n",
            "216/216 [==============================] - 166s 768ms/step - loss: 0.1859 - acc: 0.9354 - val_loss: 0.1437 - val_acc: 0.9541\n",
            "Epoch 1/10\n",
            "216/216 [==============================] - 164s 757ms/step - loss: 0.1761 - acc: 0.9391 - val_loss: 0.1590 - val_acc: 0.9453\n",
            "Epoch 2/10\n",
            "216/216 [==============================] - 158s 732ms/step - loss: 0.1806 - acc: 0.9376 - val_loss: 0.1498 - val_acc: 0.9561\n",
            "Epoch 3/10\n",
            "216/216 [==============================] - 158s 733ms/step - loss: 0.1716 - acc: 0.9400 - val_loss: 0.1383 - val_acc: 0.9590\n",
            "Epoch 4/10\n",
            "216/216 [==============================] - 160s 742ms/step - loss: 0.1735 - acc: 0.9398 - val_loss: 0.1529 - val_acc: 0.9551\n",
            "Epoch 5/10\n",
            "216/216 [==============================] - 164s 758ms/step - loss: 0.1720 - acc: 0.9406 - val_loss: 0.1475 - val_acc: 0.9521\n",
            "Epoch 6/10\n",
            "216/216 [==============================] - 155s 719ms/step - loss: 0.1728 - acc: 0.9401 - val_loss: 0.1450 - val_acc: 0.9492\n",
            "Epoch 7/10\n",
            "216/216 [==============================] - 159s 737ms/step - loss: 0.1685 - acc: 0.9400 - val_loss: 0.1622 - val_acc: 0.9404\n",
            "Epoch 8/10\n",
            "216/216 [==============================] - 150s 695ms/step - loss: 0.1694 - acc: 0.9401 - val_loss: 0.1451 - val_acc: 0.9521\n",
            "Epoch 9/10\n",
            "216/216 [==============================] - 151s 699ms/step - loss: 0.1690 - acc: 0.9397 - val_loss: 0.1189 - val_acc: 0.9580\n",
            "Epoch 10/10\n",
            "216/216 [==============================] - 163s 756ms/step - loss: 0.1653 - acc: 0.9408 - val_loss: 0.1304 - val_acc: 0.9580\n",
            "Epoch 1/10\n",
            "216/216 [==============================] - 171s 792ms/step - loss: 0.1617 - acc: 0.9415 - val_loss: 0.1431 - val_acc: 0.9521\n",
            "Epoch 2/10\n",
            "216/216 [==============================] - 156s 722ms/step - loss: 0.1610 - acc: 0.9425 - val_loss: 0.1313 - val_acc: 0.9551\n",
            "Epoch 3/10\n",
            "216/216 [==============================] - 153s 709ms/step - loss: 0.1639 - acc: 0.9406 - val_loss: 0.1365 - val_acc: 0.9531\n",
            "Epoch 4/10\n",
            "216/216 [==============================] - 159s 734ms/step - loss: 0.1623 - acc: 0.9409 - val_loss: 0.1566 - val_acc: 0.9463\n",
            "Epoch 5/10\n",
            "216/216 [==============================] - 151s 698ms/step - loss: 0.1589 - acc: 0.9431 - val_loss: 0.1389 - val_acc: 0.9521\n",
            "Epoch 6/10\n",
            "216/216 [==============================] - 155s 719ms/step - loss: 0.1565 - acc: 0.9432 - val_loss: 0.1243 - val_acc: 0.9600\n",
            "Epoch 7/10\n",
            "216/216 [==============================] - 153s 708ms/step - loss: 0.1601 - acc: 0.9427 - val_loss: 0.1359 - val_acc: 0.9541\n",
            "Epoch 8/10\n",
            "216/216 [==============================] - 168s 778ms/step - loss: 0.1603 - acc: 0.9428 - val_loss: 0.1237 - val_acc: 0.9580\n",
            "Epoch 9/10\n",
            "216/216 [==============================] - 164s 759ms/step - loss: 0.1585 - acc: 0.9445 - val_loss: 0.1409 - val_acc: 0.9482\n",
            "Epoch 10/10\n",
            "216/216 [==============================] - 153s 710ms/step - loss: 0.1565 - acc: 0.9445 - val_loss: 0.1387 - val_acc: 0.9580\n",
            "Epoch 1/10\n",
            "216/216 [==============================] - 172s 796ms/step - loss: 0.1591 - acc: 0.9434 - val_loss: 0.1316 - val_acc: 0.9521\n",
            "Epoch 2/10\n",
            "216/216 [==============================] - 152s 701ms/step - loss: 0.1564 - acc: 0.9449 - val_loss: 0.1542 - val_acc: 0.9492\n",
            "Epoch 3/10\n",
            "216/216 [==============================] - 156s 722ms/step - loss: 0.1535 - acc: 0.9442 - val_loss: 0.1222 - val_acc: 0.9590\n",
            "Epoch 4/10\n",
            "216/216 [==============================] - 167s 773ms/step - loss: 0.1548 - acc: 0.9447 - val_loss: 0.1044 - val_acc: 0.9697\n",
            "Epoch 5/10\n",
            "216/216 [==============================] - 163s 755ms/step - loss: 0.1527 - acc: 0.9452 - val_loss: 0.1444 - val_acc: 0.9521\n",
            "Epoch 6/10\n",
            "216/216 [==============================] - 158s 733ms/step - loss: 0.1529 - acc: 0.9452 - val_loss: 0.1082 - val_acc: 0.9658\n",
            "Epoch 7/10\n",
            "216/216 [==============================] - 164s 759ms/step - loss: 0.1486 - acc: 0.9475 - val_loss: 0.1347 - val_acc: 0.9531\n",
            "Epoch 8/10\n",
            "216/216 [==============================] - 153s 708ms/step - loss: 0.1499 - acc: 0.9461 - val_loss: 0.1223 - val_acc: 0.9590\n",
            "Epoch 9/10\n",
            "216/216 [==============================] - 153s 710ms/step - loss: 0.1517 - acc: 0.9459 - val_loss: 0.1135 - val_acc: 0.9619\n",
            "Epoch 10/10\n",
            "216/216 [==============================] - 155s 720ms/step - loss: 0.1480 - acc: 0.9471 - val_loss: 0.1185 - val_acc: 0.9609\n",
            "1 loop, best of 3: 26min 23s per loop\n"
          ],
          "name": "stdout"
        }
      ]
    },
    {
      "cell_type": "code",
      "metadata": {
        "id": "0raX13Pla8Wj",
        "colab_type": "code",
        "colab": {
          "base_uri": "https://localhost:8080/",
          "height": 697
        },
        "outputId": "5a4c052a-95d6-4b12-fc90-df77e3d3fa64"
      },
      "source": [
        "#Summary of Built models\n",
        "transformVanilla.summary()\n",
        "transformLightCNN.summary()"
      ],
      "execution_count": 12,
      "outputs": [
        {
          "output_type": "stream",
          "text": [
            "Model: \"sequential\"\n",
            "_________________________________________________________________\n",
            "Layer (type)                 Output Shape              Param #   \n",
            "=================================================================\n",
            "flatten (Flatten)            (None, 50700)             0         \n",
            "_________________________________________________________________\n",
            "dense (Dense)                (None, 1000)              50701000  \n",
            "_________________________________________________________________\n",
            "dense_1 (Dense)              (None, 1)                 1001      \n",
            "=================================================================\n",
            "Total params: 50,702,001\n",
            "Trainable params: 50,702,001\n",
            "Non-trainable params: 0\n",
            "_________________________________________________________________\n",
            "Model: \"sequential_1\"\n",
            "_________________________________________________________________\n",
            "Layer (type)                 Output Shape              Param #   \n",
            "=================================================================\n",
            "conv2d (Conv2D)              (None, 128, 128, 16)      448       \n",
            "_________________________________________________________________\n",
            "max_pooling2d (MaxPooling2D) (None, 64, 64, 16)        0         \n",
            "_________________________________________________________________\n",
            "conv2d_1 (Conv2D)            (None, 62, 62, 32)        4640      \n",
            "_________________________________________________________________\n",
            "max_pooling2d_1 (MaxPooling2 (None, 31, 31, 32)        0         \n",
            "_________________________________________________________________\n",
            "conv2d_2 (Conv2D)            (None, 29, 29, 64)        18496     \n",
            "_________________________________________________________________\n",
            "max_pooling2d_2 (MaxPooling2 (None, 14, 14, 64)        0         \n",
            "_________________________________________________________________\n",
            "flatten_1 (Flatten)          (None, 12544)             0         \n",
            "_________________________________________________________________\n",
            "dense_2 (Dense)              (None, 128)               1605760   \n",
            "_________________________________________________________________\n",
            "dense_3 (Dense)              (None, 1)                 129       \n",
            "=================================================================\n",
            "Total params: 1,629,473\n",
            "Trainable params: 1,629,473\n",
            "Non-trainable params: 0\n",
            "_________________________________________________________________\n"
          ],
          "name": "stdout"
        }
      ]
    },
    {
      "cell_type": "code",
      "metadata": {
        "id": "wGVkWIrIF4Lc",
        "colab_type": "code",
        "colab": {}
      },
      "source": [
        "def cells_counter(pt):\n",
        "  from keras.preprocessing import image\n",
        "  import cv2\n",
        "  from google.colab.patches import cv2_imshow\n",
        "  import numpy as np\n",
        "  \n",
        "  count_inf = 0\n",
        "  count = 0\n",
        "  \n",
        "  slide = cv2.imread(str(pt))\n",
        "  gray=cv2.cvtColor(slide,cv2.COLOR_BGR2GRAY)\n",
        "  slide_edged=cv2.Canny(gray, 30, 200, 3, L2gradient=True)\n",
        "  cv2.waitKey(0)\n",
        "  _, contours, hierarchy=cv2.findContours(slide_edged,cv2.RETR_EXTERNAL,cv2.CHAIN_APPROX_NONE)\n",
        "  cv2.waitKey(0)\n",
        "  \n",
        "  #use -1 as the 3rd parameter to draw all the contours\n",
        "  cv2.drawContours(slide,contours,-1,(25,0,0),1)\n",
        "  cv2_imshow(slide)\n",
        "  \n",
        "  cv2.waitKey(0)\n",
        "  cv2.destroyAllWindows()\n",
        "  print('Total contours', str(len(contours)))\n",
        "  \n",
        "  if not os.path.isdir('./temp_cells'):\n",
        "    os.makedirs('./temp_cells')\n",
        "  \n",
        "  temp_file = \"./temp_cells/current_file\"\n",
        "  \n",
        "  for c in contours:\n",
        "    x,y,w,h = cv2.boundingRect(c)\n",
        "    if (w/h > 0.8 and w/h < 1.1):\n",
        "      cell_img=slide[y:y+h,x:x+w]\n",
        "      cv2.imwrite(temp_file + '.png', cell_img)\n",
        "      img = image.load_img(temp_file + '.png', target_size=(130, 130))\n",
        "      x = image.img_to_array(img)\n",
        "      x = np.expand_dims(x, axis=0)\n",
        "      cell = np.vstack([x])\n",
        "      health = transformLightCNN.predict(cell, batch_size=10)\n",
        "      if health[0] < 0.5:\n",
        "        print(\"Is Infected\")\n",
        "        count_inf = count_inf + 1\n",
        "      #else:\n",
        "      #  print(\"Is not Infected\")\n",
        "      print('prediction is {}'.format(health[0]))\n",
        "      cell_temp = cv2.imread(temp_file + '.png')\n",
        "      cv2_imshow(cell_temp)\n",
        "      cv2.waitKey(1)\n",
        "  return count_inf, len(contours)"
      ],
      "execution_count": 0,
      "outputs": []
    },
    {
      "cell_type": "code",
      "metadata": {
        "id": "66BKeg6Cn6Vy",
        "colab_type": "code",
        "colab": {}
      },
      "source": [
        "from google.colab import files\n",
        "uploaded = files.upload()\n",
        "\n",
        "for fn in uploaded.keys():\n",
        "  path = '/content/' + fn\n",
        "  infected,total = cells_counter(path)\n",
        "  print (str(infected/total))"
      ],
      "execution_count": 0,
      "outputs": []
    },
    {
      "cell_type": "code",
      "metadata": {
        "id": "LKSgCQ9lTB7e",
        "colab_type": "code",
        "colab": {}
      },
      "source": [
        "print((vanilla_train_loss))"
      ],
      "execution_count": 0,
      "outputs": []
    },
    {
      "cell_type": "code",
      "metadata": {
        "id": "uBVXuU7oBsqE",
        "colab_type": "code",
        "colab": {
          "base_uri": "https://localhost:8080/",
          "height": 312
        },
        "outputId": "d870b528-78ff-4f29-9ba9-423d44cb8dca"
      },
      "source": [
        "#print((vanilla_train_loss))\n",
        "#print((vanilla_train_acc))\n",
        "#print((light_train_loss))\n",
        "#print((light_train_acc))\n",
        "\n",
        "from matplotlib import pyplot as plt3\n",
        "lightx = range(len(light_train_acc))\n",
        "vanillax = range(len(vanilla_train_acc))\n",
        "plt3.plot(lightx,light_train_acc,label='Deployed Model')\n",
        "plt3.plot(vanillax,vanilla_train_acc,label='Reference Model')\n",
        "plt3.legend()\n",
        "plt3.title('Training Accuracy against Training Cycle')\n",
        "plt3.ylabel('Training Accuracy (pu)')\n",
        "plt3.xlabel('Training Cycle')\n",
        "#Save the moels"
      ],
      "execution_count": 36,
      "outputs": [
        {
          "output_type": "execute_result",
          "data": {
            "text/plain": [
              "Text(0.5, 0, 'Training Cycle')"
            ]
          },
          "metadata": {
            "tags": []
          },
          "execution_count": 36
        },
        {
          "output_type": "display_data",
          "data": {
            "image/png": "[encoded data removed]",
            "text/plain": [
              "<Figure size 432x288 with 1 Axes>"
            ]
          },
          "metadata": {
            "tags": []
          }
        }
      ]
    },
    {
      "cell_type": "code",
      "metadata": {
        "id": "oXAN6zKeK7T7",
        "colab_type": "code",
        "colab": {}
      },
      "source": [
        "\n",
        "\n",
        "transformLightCNN.save('transformLightCNN.h5')\n",
        "transformVanilla.save('transformVanilla.h5')"
      ],
      "execution_count": 0,
      "outputs": []
    }
  ]
}