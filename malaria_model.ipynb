{
  "nbformat": 4,
  "nbformat_minor": 0,
  "metadata": {
    "colab": {
      "name": "malaria model.ipynb",
      "version": "0.3.2",
      "provenance": [],
      "collapsed_sections": [],
      "include_colab_link": true
    },
    "kernelspec": {
      "name": "python3",
      "display_name": "Python 3"
    },
    "accelerator": "GPU"
  },
  "cells": [
    {
      "cell_type": "markdown",
      "metadata": {
        "id": "view-in-github",
        "colab_type": "text"
      },
      "source": [
        "<a href=\"https://colab.research.google.com/github/datawiz1984/malaria-model/blob/master/malaria_model.ipynb\" target=\"_parent\"><img src=\"https://colab.research.google.com/assets/colab-badge.svg\" alt=\"Open In Colab\"/></a>"
      ]
    },
    {
      "cell_type": "markdown",
      "metadata": {
        "id": "ugHCazy3l55e",
        "colab_type": "text"
      },
      "source": [
        "**Colab Jupyter Note book for the Implementation of a Malaria Diagnostic Tool.**\n",
        "By Musa Mikail\n",
        "July 2019.\n",
        "\n",
        "The Aim of the Book is to Train a Binary Classifer that will be used in diagonising malaria using images captured from a  thin-smear test. \n",
        "\n",
        "Its a partial requirment for the fulfilment of the Machine LEarning Nanodegree with Udacity.\n",
        "\n",
        "The Implementation will be progressed thus:\n",
        "\n",
        "1. Download the Malaria Dataset from https://ceb.nlm.nih.gov/proj/malaria/cell_images.zip.\n",
        "2. Explore and analyse the data to identify the key features and ascertain additional pre-processing requirments before progressing with training.\n",
        "3. Pre-process the data - Including resampling and aurgumentation where required.\n",
        "4. Implement and train a Convolution Neural Network for Binary classification of the cell images.\n",
        "5. Implement a vanilla ANN for the purpose of benchmarking and pefromance assessment\n",
        "6. Save and export model for deployment.\n",
        "7.Additionally, Implement a Canny Edge detection method for counting and segmentation of cells from images passed for inference (not related to model training)\n"
      ]
    },
    {
      "cell_type": "markdown",
      "metadata": {
        "id": "2apAl4ldoJRI",
        "colab_type": "text"
      },
      "source": [
        "**1. Download the Malaria Dataset from https://ceb.nlm.nih.gov/proj/malaria/cell_images.zip.**"
      ]
    },
    {
      "cell_type": "code",
      "metadata": {
        "id": "OZx8BOn4Hbpr",
        "colab_type": "code",
        "outputId": "cc894ec2-e7e7-4f34-d471-637cf6264a38",
        "colab": {
          "base_uri": "https://localhost:8080/",
          "height": 204
        }
      },
      "source": [
        "#Download data from the website of US national library of medicine\n",
        "import os\n",
        "\n",
        "if not os.path.isdir('/datasets/malaria/'):\n",
        "  os.makedirs('/datasets/malaria/')\n",
        "\n",
        "!wget --no-check-certificate \"https://ceb.nlm.nih.gov/proj/malaria/cell_images.zip\" \\\n",
        "-O /datasets/malaria/cell_images.zip"
      ],
      "execution_count": 1,
      "outputs": [
        {
          "output_type": "stream",
          "text": [
            "--2019-07-26 04:17:56--  https://ceb.nlm.nih.gov/proj/malaria/cell_images.zip\n",
            "Resolving ceb.nlm.nih.gov (ceb.nlm.nih.gov)... 130.14.52.15, 2607:f220:41e:7052::15\n",
            "Connecting to ceb.nlm.nih.gov (ceb.nlm.nih.gov)|130.14.52.15|:443... connected.\n",
            "HTTP request sent, awaiting response... 200 OK\n",
            "Length: 353452851 (337M) [application/zip]\n",
            "Saving to: ‘/datasets/malaria/cell_images.zip’\n",
            "\n",
            "/datasets/malaria/c 100%[===================>] 337.08M  57.4MB/s    in 4.7s    \n",
            "\n",
            "2019-07-26 04:18:02 (71.4 MB/s) - ‘/datasets/malaria/cell_images.zip’ saved [353452851/353452851]\n",
            "\n"
          ],
          "name": "stdout"
        }
      ]
    },
    {
      "cell_type": "code",
      "metadata": {
        "id": "FBxWJQp2qQrj",
        "colab_type": "code",
        "outputId": "21bb2d39-7854-497e-f0ab-27e807aa089b",
        "colab": {
          "base_uri": "https://localhost:8080/",
          "height": 51
        }
      },
      "source": [
        "import zipfile\n",
        "\n",
        "zip_path = '/datasets/malaria/cell_images.zip'\n",
        "print('Unzipping file....')\n",
        "malaria_zip = zipfile.ZipFile(zip_path,'r')\n",
        "malaria_zip.extractall('/datasets/malaria/')\n",
        "malaria_zip.close()\n",
        "print('Done!!!')"
      ],
      "execution_count": 2,
      "outputs": [
        {
          "output_type": "stream",
          "text": [
            "Unzipping file....\n",
            "Done!!!\n"
          ],
          "name": "stdout"
        }
      ]
    },
    {
      "cell_type": "markdown",
      "metadata": {
        "id": "uKjWhOGCoGcz",
        "colab_type": "text"
      },
      "source": [
        "**Explore and analyse the data **"
      ]
    },
    {
      "cell_type": "code",
      "metadata": {
        "id": "Fv5VBy2qTXCi",
        "colab_type": "code",
        "outputId": "397011ae-7a7d-47df-c672-8c6e29a85214",
        "colab": {
          "base_uri": "https://localhost:8080/",
          "height": 51
        }
      },
      "source": [
        "#Check the distribution of the training data - viz a viz No. in each category.\n",
        "train_parasitized_dir = '/datasets/malaria/cell_images/Parasitized'\n",
        "\n",
        "#Diectory with our training Uninfected cells pictures\n",
        "train_uninfected_dir = '/datasets/malaria/cell_images/Uninfected'\n",
        "\n",
        "train_parasitized_names = os.listdir(train_parasitized_dir)\n",
        "train_uninfected_names = os.listdir(train_uninfected_dir)\n",
        "print('total training parasitized images:', len(os.listdir(train_parasitized_dir)))\n",
        "print('total training Uninfected images:', len(os.listdir(train_uninfected_dir)))"
      ],
      "execution_count": 3,
      "outputs": [
        {
          "output_type": "stream",
          "text": [
            "total training parasitized images: 13780\n",
            "total training Uninfected images: 13780\n"
          ],
          "name": "stdout"
        }
      ]
    },
    {
      "cell_type": "code",
      "metadata": {
        "id": "3Aira8njWtKO",
        "colab_type": "code",
        "outputId": "f109a63f-1d72-4507-ff7d-31457eae7f84",
        "colab": {
          "base_uri": "https://localhost:8080/",
          "height": 729
        }
      },
      "source": [
        "#Conduct some visual analysis of the dataset to identify any common feature\n",
        "#And any additional processing that will be required.\n",
        "%matplotlib inline\n",
        "\n",
        "import matplotlib.pyplot as plt1\n",
        "import matplotlib.pyplot as plt2\n",
        "import matplotlib.image as mpimg\n",
        "from PIL import Image\n",
        "from statistics import mode,pstdev\n",
        "\n",
        "#Get the dimensions of the images\n",
        "img_heights=[]\n",
        "img_widths=[]\n",
        "\n",
        "#Index for image iteration\n",
        "pic_print_index = 4\n",
        "\n",
        "\n",
        "#parameters for 2X2 graphs\n",
        "\n",
        "nrows = 4\n",
        "ncols = 4\n",
        "\n",
        "\n",
        "# Set up matplotlib fig, and size it to fit 2X2 pics\n",
        "fig1 = plt1.gcf()\n",
        "fig1.set_size_inches(ncols * 2, nrows * 2)\n",
        "fig1.suptitle('Visualization of Data Samples')\n",
        "\n",
        "\n",
        "next_parasitized_pix = [os.path.join(train_parasitized_dir, fname) \n",
        "                for fname in train_parasitized_names]\n",
        "\n",
        "next_Uninfected_pix = [os.path.join(train_uninfected_dir, fname) \n",
        "                for fname in train_uninfected_names]\n",
        "\n",
        "for f in next_parasitized_pix:\n",
        "  try:\n",
        "    img = Image.open(str(f))\n",
        "    img_heights.append(img.height)\n",
        "    img_widths.append(img.width)\n",
        "  except:\n",
        "    print(\"File skipped: {}\".format(str(f)))\n",
        "    \n",
        "for f in next_Uninfected_pix:\n",
        "  try:\n",
        "    img = Image.open(str(f))\n",
        "    img_heights.append(img.height)\n",
        "    img_widths.append(img.width)\n",
        "  except:\n",
        "    print(\"File skipped {}\".format(str(f)))\n",
        "\n",
        "#print(img_heights[0])\n",
        "\n",
        "  \n",
        "#print sample images of both classes in the training data\n",
        "\n",
        "for i, img_path in enumerate(next_parasitized_pix[0:pic_print_index]+next_Uninfected_pix[0:pic_print_index]):\n",
        "  # Set up subplot; subplot indices start at 1\n",
        "  sp = plt1.subplot(nrows, ncols, i + 1)\n",
        "  sp.axis('Off') # Don't show axes (or gridlines)\n",
        "  img = mpimg.imread(img_path)\n",
        "  plt1.imshow(img)\n",
        "\n",
        "  \n",
        "fig1, axs = plt2.subplots(1, 2, sharey=True, tight_layout=True)\n",
        "\n",
        "# We can set the number of bins with the `bins` kwarg\n",
        "axs[0].hist(img_heights)\n",
        "axs[1].hist(img_widths)\n",
        "  \n",
        "#Plot distribution of Height and width\n",
        "print(\"Modal Height of Image: {}\".format(mode(img_heights)))\n",
        "print(\"Modal Width of Image: {}\".format(mode(img_widths)))\n",
        "print(\"Stand. Dev Height of Image: {}\".format(pstdev(img_heights)))\n",
        "print(\"Stand. Dev Width of Image: {}\".format(pstdev(img_widths)))"
      ],
      "execution_count": 4,
      "outputs": [
        {
          "output_type": "stream",
          "text": [
            "File skipped: /datasets/malaria/cell_images/Parasitized/Thumbs.db\n",
            "File skipped /datasets/malaria/cell_images/Uninfected/Thumbs.db\n",
            "Modal Height of Image: 130\n",
            "Modal Width of Image: 130\n",
            "Stand. Dev Height of Image: 20.61927561732627\n",
            "Stand. Dev Width of Image: 20.015585545533767\n"
          ],
          "name": "stdout"
        },
        {
          "output_type": "display_data",
          "data": {
            "image/png": "[encoded data removed]",
            "text/plain": [
              "<Figure size 576x576 with 8 Axes>"
            ]
          },
          "metadata": {
            "tags": []
          }
        },
        {
          "output_type": "stream",
          "text": [
            "/usr/local/lib/python3.6/dist-packages/matplotlib/figure.py:2369: UserWarning: This figure includes Axes that are not compatible with tight_layout, so results might be incorrect.\n",
            "  warnings.warn(\"This figure includes Axes that are not compatible \"\n"
          ],
          "name": "stderr"
        },
        {
          "output_type": "display_data",
          "data": {
            "image/png": "[encoded data removed]",
            "text/plain": [
              "<Figure size 432x288 with 2 Axes>"
            ]
          },
          "metadata": {
            "tags": []
          }
        }
      ]
    },
    {
      "cell_type": "markdown",
      "metadata": {
        "id": "71q_j2rWorI6",
        "colab_type": "text"
      },
      "source": [
        "***Observations from Data Exploration:***\n",
        "1. There are a total of 27,560 Images in the training dataset\n",
        "2. The Training data is balanced (equal number of classes), and Accuracy will be a good metrics for measuring performance during training.\n",
        "3. There is a variations in the shapes of the images, with 130X130 been the most common occurence with variance of  observed."
      ]
    },
    {
      "cell_type": "markdown",
      "metadata": {
        "id": "RsQ-EkVEdf3_",
        "colab_type": "text"
      },
      "source": [
        "**3. Pre-process the data - Including resizing, and Aurgumentation** **bold text**"
      ]
    },
    {
      "cell_type": "code",
      "metadata": {
        "id": "D2e5H5FTXMY5",
        "colab_type": "code",
        "outputId": "8235a14c-e616-4a7d-b52d-2eb9afd2aac4",
        "colab": {
          "base_uri": "https://localhost:8080/",
          "height": 51
        }
      },
      "source": [
        "#Data Processing using the image generator\n",
        "#Detailed guide on the use of the ImageDataGenerator is\n",
        "#available at:\n",
        "#www.tensorflow.org/api_docs/python/tf/keras/preprocessing/image/ImageDataGenerator\n",
        "\n",
        "import tensorflow as tf\n",
        "from tensorflow.keras.preprocessing.image import ImageDataGenerator\n",
        "from sklearn.model_selection import train_test_split\n",
        "\n",
        "#Images pixel intensities normalized, rescaled by 1./255\n",
        "#This dimension was selected around the mode dimension for anti-aliasing.\n",
        "#The training dataset was split into training (75%) & validation (25%) datasets.\n",
        "#The training data was augmented by applying the following to each image:\n",
        "#  o\tRandom rotations, with 20⁰ as the rotation threshold.\n",
        "#  o\tA width and height shift limited to 20% of the actual.\n",
        "#  o\tFlipping along the horizontal axis.\n",
        "\n",
        "\n",
        "image_gen= ImageDataGenerator(rescale = 1./255,\n",
        "                             validation_split = 0.25,\n",
        "                             rotation_range=20,\n",
        "                             width_shift_range=0.2,\n",
        "                             height_shift_range=0.2,\n",
        "                             horizontal_flip=True)\n",
        "\n",
        "#Flow the whole data in batches of 128 using data_gen generator\n",
        "#The images in the dataset were resampled to a uniform dimension of 130X130 px.\n",
        "#For comformity with the input layer of the CNN\n",
        "\n",
        "train_data = image_gen.flow_from_directory(\n",
        "    '/datasets/malaria/cell_images/',\n",
        "     target_size = (130,130),\n",
        "     batch_size = 128,\n",
        "     class_mode = 'binary')\n",
        "\n",
        "test_data = image_gen.flow_from_directory(\n",
        "    '/datasets/malaria/cell_images/',\n",
        "     target_size = (130,130),\n",
        "     batch_size = 128,\n",
        "     class_mode = 'binary')"
      ],
      "execution_count": 5,
      "outputs": [
        {
          "output_type": "stream",
          "text": [
            "Found 27558 images belonging to 2 classes.\n",
            "Found 27558 images belonging to 2 classes.\n"
          ],
          "name": "stdout"
        }
      ]
    },
    {
      "cell_type": "code",
      "metadata": {
        "id": "5FuI9rsofNbN",
        "colab_type": "code",
        "outputId": "78b88c22-962e-4c2a-b754-6c7396eea823",
        "colab": {
          "base_uri": "https://localhost:8080/",
          "height": 105
        }
      },
      "source": [
        "#Build a Refercnce model to support benchmarking\n",
        "#Model refered to as \"Reference model\" in the report\n",
        "\n",
        "transformVanilla = tf.keras.models.Sequential([\n",
        "    tf.keras.layers.Flatten(input_shape=(130, 130, 3)),\n",
        "    tf.keras.layers.Dense(1000, activation='relu'),\n",
        "    tf.keras.layers.Dense(1, activation='sigmoid')\n",
        "])"
      ],
      "execution_count": 6,
      "outputs": [
        {
          "output_type": "stream",
          "text": [
            "WARNING: Logging before flag parsing goes to stderr.\n",
            "W0726 04:18:17.790928 140154752845696 deprecation.py:506] From /usr/local/lib/python3.6/dist-packages/tensorflow/python/ops/init_ops.py:1251: calling VarianceScaling.__init__ (from tensorflow.python.ops.init_ops) with dtype is deprecated and will be removed in a future version.\n",
            "Instructions for updating:\n",
            "Call initializer instance with the dtype argument instead of passing it to the constructor\n"
          ],
          "name": "stderr"
        }
      ]
    },
    {
      "cell_type": "code",
      "metadata": {
        "id": "spJS7dhR2JF6",
        "colab_type": "code",
        "colab": {}
      },
      "source": [
        "#The \"Deployed model\" is based on a CNN.\n",
        "# Final selected model parameters for the network are indicated accordingly.\n",
        "\n",
        "transformLightCNN = tf.keras.models.Sequential([\n",
        "    #Stage 1\n",
        "    tf.keras.layers.Conv2D(16, (3,3), strides=(1,1), activation = 'relu', input_shape = (130,130,3)),\n",
        "    tf.keras.layers.MaxPooling2D(2,2),\n",
        "    #Stage 2\n",
        "    tf.keras.layers.Conv2D(32, (3,3), strides=(1,1), activation = 'relu'),\n",
        "    tf.keras.layers.MaxPooling2D(2,2),\n",
        "    #Stage 3\n",
        "    tf.keras.layers.Conv2D(64, (3,3), strides=(1,1), activation = 'relu'),\n",
        "    tf.keras.layers.MaxPooling2D(2,2),\n",
        "    #Fully Connected Section\n",
        "    tf.keras.layers.Flatten(),\n",
        "    tf.keras.layers.Dense(128, activation = 'relu'),\n",
        "    tf.keras.layers.Dense(1, activation = 'sigmoid')\n",
        "])"
      ],
      "execution_count": 0,
      "outputs": []
    },
    {
      "cell_type": "code",
      "metadata": {
        "id": "HQluKWku7K3a",
        "colab_type": "code",
        "colab": {}
      },
      "source": [
        "#Implement Training Callbacks\n",
        "\n",
        "vanilla_train_loss=[]\n",
        "vanilla_train_acc = []\n",
        "vanilla_validation_loss = []\n",
        "vanilla_validation_acc = []\n",
        "light_train_loss=[]\n",
        "light_train_acc = []\n",
        "light_validation_loss = []\n",
        "light_validation_acc = []\n",
        "\n",
        "\n",
        "class vanillaCallback(tf.keras.callbacks.Callback):\n",
        "  def on_train_batch_end(self, epoch, logs={}):\n",
        "    vanilla_train_loss.append(logs.get('loss'))\n",
        "    vanilla_train_acc.append(logs.get('acc'))\n",
        "    vanilla_validation_loss.append(logs.get('val_loss'))\n",
        "    vanilla_validation_acc.append(logs.get('val_Acc'))\n",
        "\n",
        "\n",
        "class lightCallback(tf.keras.callbacks.Callback):\n",
        "  def on_train_batch_end(self, epoch, logs={}):\n",
        "    light_train_loss.append(logs.get('loss'))\n",
        "    light_train_acc.append(logs.get('acc'))\n",
        "    light_validation_loss.append(logs.get('val_loss'))\n",
        "    light_validation_acc.append(logs.get('val_Acc'))\n",
        "\n",
        "    \n",
        "vanilla_callbacks = vanillaCallback()\n",
        "Light_callbacks = lightCallback()\n"
      ],
      "execution_count": 0,
      "outputs": []
    },
    {
      "cell_type": "code",
      "metadata": {
        "id": "jxTib46vcieV",
        "colab_type": "code",
        "outputId": "85170129-502e-4d26-dc1f-dbdb32003027",
        "colab": {
          "base_uri": "https://localhost:8080/",
          "height": 88
        }
      },
      "source": [
        "# Training Parameters:\n",
        "# • Loss function: Binary crossentropy\n",
        "# •\tOptimizer: Adaptive moment estimation (Adam)\n",
        "# •\tMetrics: Accuracy - appropriate as training data is balanced.\n",
        "\n",
        "transformVanilla.compile(loss = 'binary_crossentropy',\n",
        "                    optimizer = 'adam',\n",
        "                    metrics = ['acc'])\n",
        "\n",
        "transformLightCNN.compile(loss = 'binary_crossentropy',\n",
        "                    optimizer = 'adam',\n",
        "                    metrics = ['acc'])"
      ],
      "execution_count": 9,
      "outputs": [
        {
          "output_type": "stream",
          "text": [
            "W0726 04:18:18.143002 140154752845696 deprecation.py:323] From /usr/local/lib/python3.6/dist-packages/tensorflow/python/ops/nn_impl.py:180: add_dispatch_support.<locals>.wrapper (from tensorflow.python.ops.array_ops) is deprecated and will be removed in a future version.\n",
            "Instructions for updating:\n",
            "Use tf.where in 2.0, which has the same broadcast rule as np.where\n"
          ],
          "name": "stderr"
        }
      ]
    },
    {
      "cell_type": "code",
      "metadata": {
        "id": "HVnBiZ5ysGEX",
        "colab_type": "code",
        "outputId": "d5cc3a33-be19-420e-fa02-6d97445f99c9",
        "colab": {
          "base_uri": "https://localhost:8080/",
          "height": 51
        }
      },
      "source": [
        "#Training of the Vanilla MLP Classifier\n",
        "%%timeit\n",
        "transformerVanilla = transformVanilla.fit_generator(\n",
        "            train_data,\n",
        "            callbacks=[vanilla_callbacks],\n",
        "            validation_data=test_data,\n",
        "            validation_steps=8,\n",
        "            epochs=10,\n",
        "            verbose=1)"
      ],
      "execution_count": 0,
      "outputs": [
        {
          "output_type": "stream",
          "text": [
            "Epoch 1/10\n",
            "130/216 [=================>............] - ETA: 56s - loss: 6.5581 - acc: 0.5450"
          ],
          "name": "stdout"
        }
      ]
    },
    {
      "cell_type": "code",
      "metadata": {
        "id": "gAgVodXg58_x",
        "colab_type": "code",
        "colab": {}
      },
      "source": [
        "#Training of the Tuned Light architecture Classifier\n",
        "%%timeit\n",
        "transformerLightCNN = transformLightCNN.fit_generator(\n",
        "            train_data,\n",
        "            callbacks=[Light_callbacks],\n",
        "            validation_data=test_data,\n",
        "            validation_steps=8,\n",
        "            epochs=10,\n",
        "            verbose=1)"
      ],
      "execution_count": 0,
      "outputs": []
    },
    {
      "cell_type": "code",
      "metadata": {
        "id": "0raX13Pla8Wj",
        "colab_type": "code",
        "colab": {}
      },
      "source": [
        "#Summary of Built models\n",
        "transformVanilla.summary()\n",
        "transformLightCNN.summary()"
      ],
      "execution_count": 0,
      "outputs": []
    },
    {
      "cell_type": "code",
      "metadata": {
        "id": "wGVkWIrIF4Lc",
        "colab_type": "code",
        "colab": {}
      },
      "source": [
        "def cells_counter(pt):\n",
        "  #Import relevant libraries\n",
        "  from keras.preprocessing import image\n",
        "  import cv2\n",
        "  from google.colab.patches import cv2_imshow\n",
        "  import numpy as np\n",
        "  \n",
        "  count_inf = 0 #Total number of cells predicted to be infected.\n",
        "  count = 0 # Total numbe rof cells on the slide.\n",
        "  \n",
        "  slide = cv2.imread(str(pt)) # A quick view of the slide\n",
        "  \n",
        "  #Convert the RGB slide image to Grayscale.\n",
        "  #This enhances the areas of varying intensities in the images\n",
        "  #And improve the accuracy of the next stage\n",
        "  gray=cv2.cvtColor(slide,cv2.COLOR_BGR2GRAY)\n",
        "  \n",
        "  #Identify the edges of the red blood cells using the Canny filter.\n",
        "  slide_edged=cv2.Canny(gray, 30, 200, 3, L2gradient=True)\n",
        "  cv2.waitKey(0)\n",
        "  \n",
        "  #create contours around the edges of the cells\n",
        "  #each contour represent the bounded area around a separet red blood cell.\n",
        "  _, contours, hierarchy=cv2.findContours(slide_edged,cv2.RETR_EXTERNAL,cv2.CHAIN_APPROX_NONE)\n",
        "  cv2.waitKey(0)\n",
        "  \n",
        "  #setting the 3rd parameter to -1 draw the contours for visualization\n",
        "  cv2.drawContours(slide,contours,-1,(25,0,0),1)\n",
        "  cv2_imshow(slide)\n",
        "  \n",
        "  cv2.waitKey(0)\n",
        "  cv2.destroyAllWindows()\n",
        "  print('Total contours', str(len(contours))) #this support debugging.\n",
        "  \n",
        "  if not os.path.isdir('./temp_cells'):\n",
        "    os.makedirs('./temp_cells')\n",
        "  temp_file = \"./temp_cells/current_file\"\n",
        "  #Iterate over individal contours to create images and perform inference on it\n",
        "  for c in contours:\n",
        "    x,y,w,h = cv2.boundingRect(c)\n",
        "    if (w/h > 0.8 and w/h < 1.1):\n",
        "      #use the bound box around the contours to create separate image files\n",
        "      #for each segmented cell\n",
        "      cell_img=slide[y:y+h,x:x+w]\n",
        "      #temporary create the file containing the cell for inference making\n",
        "      cv2.imwrite(temp_file + '.png', cell_img)\n",
        "      img = image.load_img(temp_file + '.png', target_size=(130, 130))\n",
        "      x = image.img_to_array(img)\n",
        "      x = np.expand_dims(x, axis=0)\n",
        "      cell = np.vstack([x])\n",
        "      #Pass the cell image into the \"Deployment model\" for prediction\n",
        "      health = transformLightCNN.predict(cell, batch_size=10)\n",
        "      if health[0] < 0.5:\n",
        "        #print(\"Is  Infected\")\n",
        "        count_inf = count_inf + 1\n",
        "      #else:\n",
        "      #  print(\"Is not Infected\")\n",
        "      print('prediction is {}'.format(health[0]))\n",
        "      #cell_temp = cv2.imread(temp_file + '.png')\n",
        "      #cv2_imshow(cell_temp)\n",
        "      cv2.waitKey(1)\n",
        "  return count_inf, len(contours)"
      ],
      "execution_count": 0,
      "outputs": []
    },
    {
      "cell_type": "code",
      "metadata": {
        "id": "66BKeg6Cn6Vy",
        "colab_type": "code",
        "colab": {}
      },
      "source": [
        "#Run this and upload an image of a slide\n",
        "from google.colab import files\n",
        "uploaded = files.upload()\n",
        "\n",
        "for fn in uploaded.keys():\n",
        "  path = '/content/' + fn\n",
        "  #This will call the above function:cells_counter to predict\n",
        "  infected,total = cells_counter(path)\n",
        "  print (str(infected/total))"
      ],
      "execution_count": 0,
      "outputs": []
    },
    {
      "cell_type": "code",
      "metadata": {
        "id": "uBVXuU7oBsqE",
        "colab_type": "code",
        "colab": {}
      },
      "source": [
        "#Visual analysis of the model performance\n",
        "from matplotlib import pyplot as plt3\n",
        "lightx = range(len(light_train_acc))\n",
        "vanillax = range(len(vanilla_train_acc))\n",
        "plt3.plot(lightx,light_train_acc,label='Deployed Model')\n",
        "plt3.plot(vanillax,vanilla_train_acc,label='Reference Model')\n",
        "plt3.legend()\n",
        "plt3.title('Training Accuracy against Training Cycle')\n",
        "plt3.ylabel('Training Accuracy (pu)')\n",
        "plt3.xlabel('Training Cycle')"
      ],
      "execution_count": 0,
      "outputs": []
    },
    {
      "cell_type": "code",
      "metadata": {
        "id": "oXAN6zKeK7T7",
        "colab_type": "code",
        "colab": {}
      },
      "source": [
        "#Save models in hdf5 format for export and deployment.\n",
        "transformLightCNN.save('transformLightCNN.h5')\n",
        "transformVanilla.save('transformVanilla.h5')"
      ],
      "execution_count": 0,
      "outputs": []
    },
    {
      "cell_type": "code",
      "metadata": {
        "id": "KLeNOp8sM_rJ",
        "colab_type": "code",
        "colab": {}
      },
      "source": [
        ""
      ],
      "execution_count": 0,
      "outputs": []
    }
  ]
}